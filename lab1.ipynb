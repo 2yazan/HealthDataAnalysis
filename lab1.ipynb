{
  "cells": [
    {
      "cell_type": "markdown",
      "metadata": {
        "collapsed": false,
        "jupyter": {
          "outputs_hidden": false
        }
      },
      "source": [
        "PV-202 Aladib Yazan\n",
        "\n",
        "Lab Work № 1. On the growth of COVID-19 cases\n",
        "\n",
        "From November 2020 to February 2021"
      ]
    },
    {
      "cell_type": "code",
      "execution_count": 1,
      "metadata": {
        "collapsed": false,
        "jupyter": {
          "outputs_hidden": false
        },
        "trusted": true
      },
      "outputs": [
        {
          "data": {
            "text/html": [
              "<div>\n",
              "<style scoped>\n",
              "    .dataframe tbody tr th:only-of-type {\n",
              "        vertical-align: middle;\n",
              "    }\n",
              "\n",
              "    .dataframe tbody tr th {\n",
              "        vertical-align: top;\n",
              "    }\n",
              "\n",
              "    .dataframe thead th {\n",
              "        text-align: right;\n",
              "    }\n",
              "</style>\n",
              "<table border=\"1\" class=\"dataframe\">\n",
              "  <thead>\n",
              "    <tr style=\"text-align: right;\">\n",
              "      <th></th>\n",
              "      <th>date</th>\n",
              "      <th>death</th>\n",
              "      <th>deathIncrease</th>\n",
              "      <th>inIcuCumulative</th>\n",
              "      <th>inIcuCurrently</th>\n",
              "      <th>hospitalizedIncrease</th>\n",
              "      <th>hospitalizedCurrently</th>\n",
              "      <th>hospitalizedCumulative</th>\n",
              "      <th>negative</th>\n",
              "      <th>negativeIncrease</th>\n",
              "      <th>onVentilatorCumulative</th>\n",
              "      <th>onVentilatorCurrently</th>\n",
              "      <th>positive</th>\n",
              "      <th>positiveIncrease</th>\n",
              "      <th>states</th>\n",
              "      <th>totalTestResults</th>\n",
              "      <th>totalTestResultsIncrease</th>\n",
              "    </tr>\n",
              "  </thead>\n",
              "  <tbody>\n",
              "    <tr>\n",
              "      <th>419</th>\n",
              "      <td>2020-01-13</td>\n",
              "      <td>NaN</td>\n",
              "      <td>0</td>\n",
              "      <td>NaN</td>\n",
              "      <td>NaN</td>\n",
              "      <td>0</td>\n",
              "      <td>NaN</td>\n",
              "      <td>NaN</td>\n",
              "      <td>NaN</td>\n",
              "      <td>0</td>\n",
              "      <td>NaN</td>\n",
              "      <td>NaN</td>\n",
              "      <td>NaN</td>\n",
              "      <td>0</td>\n",
              "      <td>1</td>\n",
              "      <td>0</td>\n",
              "      <td>0</td>\n",
              "    </tr>\n",
              "    <tr>\n",
              "      <th>418</th>\n",
              "      <td>2020-01-14</td>\n",
              "      <td>NaN</td>\n",
              "      <td>0</td>\n",
              "      <td>NaN</td>\n",
              "      <td>NaN</td>\n",
              "      <td>0</td>\n",
              "      <td>NaN</td>\n",
              "      <td>NaN</td>\n",
              "      <td>NaN</td>\n",
              "      <td>0</td>\n",
              "      <td>NaN</td>\n",
              "      <td>NaN</td>\n",
              "      <td>0.0</td>\n",
              "      <td>0</td>\n",
              "      <td>1</td>\n",
              "      <td>0</td>\n",
              "      <td>0</td>\n",
              "    </tr>\n",
              "    <tr>\n",
              "      <th>417</th>\n",
              "      <td>2020-01-15</td>\n",
              "      <td>NaN</td>\n",
              "      <td>0</td>\n",
              "      <td>NaN</td>\n",
              "      <td>NaN</td>\n",
              "      <td>0</td>\n",
              "      <td>NaN</td>\n",
              "      <td>NaN</td>\n",
              "      <td>NaN</td>\n",
              "      <td>0</td>\n",
              "      <td>NaN</td>\n",
              "      <td>NaN</td>\n",
              "      <td>0.0</td>\n",
              "      <td>0</td>\n",
              "      <td>1</td>\n",
              "      <td>0</td>\n",
              "      <td>0</td>\n",
              "    </tr>\n",
              "    <tr>\n",
              "      <th>416</th>\n",
              "      <td>2020-01-16</td>\n",
              "      <td>NaN</td>\n",
              "      <td>0</td>\n",
              "      <td>NaN</td>\n",
              "      <td>NaN</td>\n",
              "      <td>0</td>\n",
              "      <td>NaN</td>\n",
              "      <td>NaN</td>\n",
              "      <td>NaN</td>\n",
              "      <td>0</td>\n",
              "      <td>NaN</td>\n",
              "      <td>NaN</td>\n",
              "      <td>0.0</td>\n",
              "      <td>0</td>\n",
              "      <td>1</td>\n",
              "      <td>0</td>\n",
              "      <td>0</td>\n",
              "    </tr>\n",
              "    <tr>\n",
              "      <th>415</th>\n",
              "      <td>2020-01-17</td>\n",
              "      <td>NaN</td>\n",
              "      <td>0</td>\n",
              "      <td>NaN</td>\n",
              "      <td>NaN</td>\n",
              "      <td>0</td>\n",
              "      <td>NaN</td>\n",
              "      <td>NaN</td>\n",
              "      <td>NaN</td>\n",
              "      <td>0</td>\n",
              "      <td>NaN</td>\n",
              "      <td>NaN</td>\n",
              "      <td>0.0</td>\n",
              "      <td>0</td>\n",
              "      <td>1</td>\n",
              "      <td>0</td>\n",
              "      <td>0</td>\n",
              "    </tr>\n",
              "    <tr>\n",
              "      <th>...</th>\n",
              "      <td>...</td>\n",
              "      <td>...</td>\n",
              "      <td>...</td>\n",
              "      <td>...</td>\n",
              "      <td>...</td>\n",
              "      <td>...</td>\n",
              "      <td>...</td>\n",
              "      <td>...</td>\n",
              "      <td>...</td>\n",
              "      <td>...</td>\n",
              "      <td>...</td>\n",
              "      <td>...</td>\n",
              "      <td>...</td>\n",
              "      <td>...</td>\n",
              "      <td>...</td>\n",
              "      <td>...</td>\n",
              "      <td>...</td>\n",
              "    </tr>\n",
              "    <tr>\n",
              "      <th>4</th>\n",
              "      <td>2021-03-03</td>\n",
              "      <td>508665.0</td>\n",
              "      <td>2449</td>\n",
              "      <td>45214.0</td>\n",
              "      <td>9359.0</td>\n",
              "      <td>2172</td>\n",
              "      <td>45462.0</td>\n",
              "      <td>770821.0</td>\n",
              "      <td>73857281.0</td>\n",
              "      <td>267001</td>\n",
              "      <td>4260.0</td>\n",
              "      <td>3094.0</td>\n",
              "      <td>28520365.0</td>\n",
              "      <td>66836</td>\n",
              "      <td>56</td>\n",
              "      <td>357888671</td>\n",
              "      <td>1406795</td>\n",
              "    </tr>\n",
              "    <tr>\n",
              "      <th>3</th>\n",
              "      <td>2021-03-04</td>\n",
              "      <td>510408.0</td>\n",
              "      <td>1743</td>\n",
              "      <td>45293.0</td>\n",
              "      <td>8970.0</td>\n",
              "      <td>1530</td>\n",
              "      <td>44172.0</td>\n",
              "      <td>772351.0</td>\n",
              "      <td>74035238.0</td>\n",
              "      <td>177957</td>\n",
              "      <td>4267.0</td>\n",
              "      <td>2973.0</td>\n",
              "      <td>28585852.0</td>\n",
              "      <td>65487</td>\n",
              "      <td>56</td>\n",
              "      <td>359479655</td>\n",
              "      <td>1590984</td>\n",
              "    </tr>\n",
              "    <tr>\n",
              "      <th>2</th>\n",
              "      <td>2021-03-05</td>\n",
              "      <td>512629.0</td>\n",
              "      <td>2221</td>\n",
              "      <td>45373.0</td>\n",
              "      <td>8634.0</td>\n",
              "      <td>2781</td>\n",
              "      <td>42541.0</td>\n",
              "      <td>775132.0</td>\n",
              "      <td>74307155.0</td>\n",
              "      <td>271917</td>\n",
              "      <td>4275.0</td>\n",
              "      <td>2889.0</td>\n",
              "      <td>28654639.0</td>\n",
              "      <td>68787</td>\n",
              "      <td>56</td>\n",
              "      <td>361224072</td>\n",
              "      <td>1744417</td>\n",
              "    </tr>\n",
              "    <tr>\n",
              "      <th>1</th>\n",
              "      <td>2021-03-06</td>\n",
              "      <td>514309.0</td>\n",
              "      <td>1680</td>\n",
              "      <td>45453.0</td>\n",
              "      <td>8409.0</td>\n",
              "      <td>503</td>\n",
              "      <td>41401.0</td>\n",
              "      <td>775635.0</td>\n",
              "      <td>74450990.0</td>\n",
              "      <td>143835</td>\n",
              "      <td>4280.0</td>\n",
              "      <td>2811.0</td>\n",
              "      <td>28714654.0</td>\n",
              "      <td>60015</td>\n",
              "      <td>56</td>\n",
              "      <td>362655064</td>\n",
              "      <td>1430992</td>\n",
              "    </tr>\n",
              "    <tr>\n",
              "      <th>0</th>\n",
              "      <td>2021-03-07</td>\n",
              "      <td>515151.0</td>\n",
              "      <td>842</td>\n",
              "      <td>45475.0</td>\n",
              "      <td>8134.0</td>\n",
              "      <td>726</td>\n",
              "      <td>40199.0</td>\n",
              "      <td>776361.0</td>\n",
              "      <td>74582825.0</td>\n",
              "      <td>131835</td>\n",
              "      <td>4281.0</td>\n",
              "      <td>2802.0</td>\n",
              "      <td>28756489.0</td>\n",
              "      <td>41835</td>\n",
              "      <td>56</td>\n",
              "      <td>363825123</td>\n",
              "      <td>1170059</td>\n",
              "    </tr>\n",
              "  </tbody>\n",
              "</table>\n",
              "<p>420 rows × 17 columns</p>\n",
              "</div>"
            ],
            "text/plain": [
              "           date     death  deathIncrease  inIcuCumulative  inIcuCurrently  \\\n",
              "419  2020-01-13       NaN              0              NaN             NaN   \n",
              "418  2020-01-14       NaN              0              NaN             NaN   \n",
              "417  2020-01-15       NaN              0              NaN             NaN   \n",
              "416  2020-01-16       NaN              0              NaN             NaN   \n",
              "415  2020-01-17       NaN              0              NaN             NaN   \n",
              "..          ...       ...            ...              ...             ...   \n",
              "4    2021-03-03  508665.0           2449          45214.0          9359.0   \n",
              "3    2021-03-04  510408.0           1743          45293.0          8970.0   \n",
              "2    2021-03-05  512629.0           2221          45373.0          8634.0   \n",
              "1    2021-03-06  514309.0           1680          45453.0          8409.0   \n",
              "0    2021-03-07  515151.0            842          45475.0          8134.0   \n",
              "\n",
              "     hospitalizedIncrease  hospitalizedCurrently  hospitalizedCumulative  \\\n",
              "419                     0                    NaN                     NaN   \n",
              "418                     0                    NaN                     NaN   \n",
              "417                     0                    NaN                     NaN   \n",
              "416                     0                    NaN                     NaN   \n",
              "415                     0                    NaN                     NaN   \n",
              "..                    ...                    ...                     ...   \n",
              "4                    2172                45462.0                770821.0   \n",
              "3                    1530                44172.0                772351.0   \n",
              "2                    2781                42541.0                775132.0   \n",
              "1                     503                41401.0                775635.0   \n",
              "0                     726                40199.0                776361.0   \n",
              "\n",
              "       negative  negativeIncrease  onVentilatorCumulative  \\\n",
              "419         NaN                 0                     NaN   \n",
              "418         NaN                 0                     NaN   \n",
              "417         NaN                 0                     NaN   \n",
              "416         NaN                 0                     NaN   \n",
              "415         NaN                 0                     NaN   \n",
              "..          ...               ...                     ...   \n",
              "4    73857281.0            267001                  4260.0   \n",
              "3    74035238.0            177957                  4267.0   \n",
              "2    74307155.0            271917                  4275.0   \n",
              "1    74450990.0            143835                  4280.0   \n",
              "0    74582825.0            131835                  4281.0   \n",
              "\n",
              "     onVentilatorCurrently    positive  positiveIncrease  states  \\\n",
              "419                    NaN         NaN                 0       1   \n",
              "418                    NaN         0.0                 0       1   \n",
              "417                    NaN         0.0                 0       1   \n",
              "416                    NaN         0.0                 0       1   \n",
              "415                    NaN         0.0                 0       1   \n",
              "..                     ...         ...               ...     ...   \n",
              "4                   3094.0  28520365.0             66836      56   \n",
              "3                   2973.0  28585852.0             65487      56   \n",
              "2                   2889.0  28654639.0             68787      56   \n",
              "1                   2811.0  28714654.0             60015      56   \n",
              "0                   2802.0  28756489.0             41835      56   \n",
              "\n",
              "     totalTestResults  totalTestResultsIncrease  \n",
              "419                 0                         0  \n",
              "418                 0                         0  \n",
              "417                 0                         0  \n",
              "416                 0                         0  \n",
              "415                 0                         0  \n",
              "..                ...                       ...  \n",
              "4           357888671                   1406795  \n",
              "3           359479655                   1590984  \n",
              "2           361224072                   1744417  \n",
              "1           362655064                   1430992  \n",
              "0           363825123                   1170059  \n",
              "\n",
              "[420 rows x 17 columns]"
            ]
          },
          "execution_count": 1,
          "metadata": {},
          "output_type": "execute_result"
        }
      ],
      "source": [
        "import math\n",
        "from datetime import date\n",
        "from itertools import product\n",
        "\n",
        "import numpy as np\n",
        "import pandas as pd\n",
        "from dateutil.relativedelta import relativedelta\n",
        "from matplotlib import pyplot as plt\n",
        "from scipy.stats import norm, stats\n",
        "from scipy.stats import chisquare\n",
        "\n",
        "df = pd.read_csv('covid-data.csv', ).sort_values('date', ascending=True)\n",
        "df"
      ]
    },
    {
      "cell_type": "markdown",
      "metadata": {
        "collapsed": false,
        "jupyter": {
          "outputs_hidden": false
        }
      },
      "source": [
        "Obtaining daily case data for a specific period"
      ]
    },
    {
      "cell_type": "code",
      "execution_count": 2,
      "metadata": {
        "collapsed": false,
        "jupyter": {
          "outputs_hidden": false
        },
        "trusted": true
      },
      "outputs": [
        {
          "data": {
            "text/plain": [
              "[<matplotlib.lines.Line2D at 0x279bd808c90>]"
            ]
          },
          "execution_count": 2,
          "metadata": {},
          "output_type": "execute_result"
        },
        {
          "data": {
            "image/png": "[encoded data removed]",
            "text/plain": [
              "<Figure size 640x480 with 1 Axes>"
            ]
          },
          "metadata": {},
          "output_type": "display_data"
        }
      ],
      "source": [
        "start_date = date(2020, 11, 1)\n",
        "end_date = start_date + relativedelta(months=3)\n",
        "\n",
        "# Filtering dataframe by date\n",
        "df = df[df.apply(lambda row: start_date <= date.fromisoformat(row['date']) <= end_date, axis=1)]\n",
        "\n",
        "x = df['positiveIncrease'].to_numpy()\n",
        "t = np.array(range(1, len(x)+1))\n",
        "\n",
        "plt.xlabel(\"Day\")\n",
        "plt.ylabel(\"New cases\")\n",
        "plt.grid()\n",
        "plt.plot(t, x, \"rx\")"
      ]
    },
    {
      "cell_type": "markdown",
      "metadata": {
        "collapsed": false,
        "jupyter": {
          "outputs_hidden": false
        }
      },
      "source": [
        "Logarithmizing the data (reducing to a linear model), calculating means"
      ]
    },
    {
      "cell_type": "code",
      "execution_count": 3,
      "metadata": {
        "collapsed": false,
        "jupyter": {
          "outputs_hidden": false
        },
        "trusted": true
      },
      "outputs": [],
      "source": [
        "y = np.array(list(map(math.log, x)))\n",
        "ty = t * y\n",
        "\n",
        "t_mean = t.mean()\n",
        "y_mean = y.mean()\n",
        "ty_mean = ty.mean()"
      ]
    },
    {
      "cell_type": "markdown",
      "metadata": {
        "collapsed": false,
        "jupyter": {
          "outputs_hidden": false
        }
      },
      "source": [
        "Computing covariance"
      ]
    },
    {
      "cell_type": "code",
      "execution_count": 4,
      "metadata": {
        "collapsed": false,
        "jupyter": {
          "outputs_hidden": false
        },
        "trusted": true
      },
      "outputs": [],
      "source": [
        "cov = ty_mean - t_mean * y_mean"
      ]
    },
    {
      "cell_type": "markdown",
      "metadata": {
        "collapsed": false,
        "jupyter": {
          "outputs_hidden": false
        }
      },
      "source": [
        "Computing variance of t"
      ]
    },
    {
      "cell_type": "code",
      "execution_count": 5,
      "metadata": {
        "collapsed": false,
        "jupyter": {
          "outputs_hidden": false
        },
        "trusted": true
      },
      "outputs": [],
      "source": [
        "t2 = t ** 2\n",
        "dt = t2.mean() - t_mean ** 2"
      ]
    },
    {
      "cell_type": "markdown",
      "metadata": {
        "collapsed": false,
        "jupyter": {
          "outputs_hidden": false
        }
      },
      "source": [
        "Computing regression coefficients"
      ]
    },
    {
      "cell_type": "code",
      "execution_count": 6,
      "metadata": {
        "collapsed": false,
        "jupyter": {
          "outputs_hidden": false
        },
        "trusted": true
      },
      "outputs": [
        {
          "name": "stdout",
          "output_type": "stream",
          "text": [
            "0.0030866538277854313 154030.24281708512\n"
          ]
        }
      ],
      "source": [
        "b = cov / dt\n",
        "a = y_mean - b * t_mean\n",
        "A = math.exp(a)\n",
        "print(b, A)"
      ]
    },
    {
      "cell_type": "markdown",
      "metadata": {
        "collapsed": false,
        "jupyter": {
          "outputs_hidden": false
        }
      },
      "source": [
        "Approximation graph"
      ]
    },
    {
      "cell_type": "code",
      "execution_count": 7,
      "metadata": {
        "collapsed": false,
        "jupyter": {
          "outputs_hidden": false
        },
        "trusted": true
      },
      "outputs": [
        {
          "data": {
            "image/png": "[encoded data removed]",
            "text/plain": [
              "<Figure size 640x480 with 1 Axes>"
            ]
          },
          "metadata": {},
          "output_type": "display_data"
        }
      ],
      "source": [
        "z = np.array(list(map(lambda ti: A * math.exp(b * ti), t)))\n",
        "\n",
        "plt.plot(t, x, 'rx', label='Fact')\n",
        "plt.plot(t, z, 'b-', label='Approx')\n",
        "plt.legend()\n",
        "plt.show()"
      ]
    },
    {
      "cell_type": "markdown",
      "metadata": {
        "collapsed": false,
        "jupyter": {
          "outputs_hidden": false
        }
      },
      "source": [
        "Testing the hypothesis about the type of distribution using the chi-squared test"
      ]
    },
    {
      "cell_type": "code",
      "execution_count": 8,
      "metadata": {
        "scrolled": true,
        "trusted": true
      },
      "outputs": [
        {
          "name": "stdout",
          "output_type": "stream",
          "text": [
            "k = 4.1196181625468125\n",
            "p = 0.6604926118456349\n",
            "Hypothesis is confirmed\n"
          ]
        }
      ],
      "source": [
        "eps = A * np.array(list(map(lambda ti: math.exp(b * ti), t))) - x\n",
        "eps2 = eps ** 2\n",
        "\n",
        "sigma = math.sqrt(eps2.mean() - eps.mean())\n",
        "\n",
        "s = math.trunc(math.log2(len(x))) + 1\n",
        "\n",
        "# Splitting into intervals\n",
        "step = (eps.max() - eps.min()) / s\n",
        "edges = [eps.min()]\n",
        "\n",
        "for i in range(1, s + 1):\n",
        "    edges.append(edges[i-1] + step)\n",
        "\n",
        "edges[0] = -math.inf\n",
        "edges.append(math.inf)\n",
        "\n",
        "# Computing actual frequencies\n",
        "count = [0] * len(edges)\n",
        "\n",
        "for i, j in product(range(1, len(edges)), eps):\n",
        "    if edges[i-1] <= j < edges[i]:\n",
        "        count[i] += 1\n",
        "\n",
        "count.pop(0)\n",
        "\n",
        "# Computing theoretical frequencies\n",
        "p = [norm.cdf(edges[i] / sigma) - norm.cdf(edges[i-1] / sigma) for i in range(1, len(edges))]\n",
        "n_t = np.array(p) * len(t)\n",
        "\n",
        "k, p = chisquare(count, n_t, ddof=1)\n",
        "# k, p = stats.chisquare(count, n_t, ddof=1)\n",
        "\n",
        "print('k =', k)\n",
        "print('p =', p)\n",
        "\n",
        "if p > 0.05:\n",
        "    print('Hypothesis is confirmed')\n",
        "else:\n",
        "    print('Hypothesis is not confirmed')"
      ]
    }
  ],
  "metadata": {
    "kernelspec": {
      "display_name": "Python 3",
      "language": "python",
      "name": "python3"
    },
    "language_info": {
      "codemirror_mode": {
        "name": "ipython",
        "version": 3
      },
      "file_extension": ".py",
      "mimetype": "text/x-python",
      "name": "python",
      "nbconvert_exporter": "python",
      "pygments_lexer": "ipython3",
      "version": "3.11.0"
    }
  },
  "nbformat": 4,
  "nbformat_minor": 4
}
